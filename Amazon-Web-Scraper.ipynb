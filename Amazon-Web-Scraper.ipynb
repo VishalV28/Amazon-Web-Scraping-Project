{
 "cells": [
  {
   "cell_type": "code",
   "execution_count": 69,
   "id": "1c4e7f78-9e83-4036-a0fd-fcc7416f60ff",
   "metadata": {},
   "outputs": [],
   "source": [
    "# Importing libraries\n",
    "\n",
    "from bs4 import BeautifulSoup\n",
    "import requests\n",
    "import time\n",
    "import datetime\n",
    "import smtplib\n",
    "import pandas as pd"
   ]
  },
  {
   "cell_type": "code",
   "execution_count": 55,
   "id": "9964cf81-ea7e-4c12-989f-718e11d79a3a",
   "metadata": {},
   "outputs": [
    {
     "name": "stdout",
     "output_type": "stream",
     "text": [
      "The Eminem Show (Vinyl)\n",
      "50.41\n"
     ]
    }
   ],
   "source": [
    "# Establishing connection with URL\n",
    "\n",
    "url = 'https://www.amazon.ca/Eminem-Show-Vinyl/dp/B000066JCX/ref=sr_1_1?crid=3UYMS6A7A4QJ3&dib=eyJ2IjoiMSJ9.qXWnJoDqGKrBu5kmDeG6y03Uifnw8F3zBC_VeTiECYZWw7_VZoEPf7-9IMUZqoibrVC7uIop5WPxA6VlnhUR6XZFd_MFXJX2mmt5beP_E-iNU6Z8NYC8KVhkgnP94aC02IzkQJ9BZZC03unRtPYAWwVpShRtQ6Ef1EvuzdOKlEPnBFjRwSbepgYRym5uHUPXFl8PxU4TAcI6S2VnaFVcTKQHQ-nTsdS6ru4mcld_ivquRwHCraqrir4ZjNYuIVI8rGyMF9BRzjBFDbRxzulfsHS0Kms-n8kuLd9GKbmnpx4.2VARSZHcJDzs37x2nkHLEWaC5bs9gjrOnxOjPd2YHy8&dib_tag=se&keywords=the+eminem+show+vinyl&qid=1721844065&sprefix=pi%2Caps%2C6135&sr=8-1'\n",
    "headers = {\"User-Agent\": \"Mozilla/5.0 (Windows NT 10.0; Win64; x64) AppleWebKit/537.36 (KHTML, like Gecko) Chrome/126.0.0.0 Safari/537.36\", \"Accept-Encoding\":\"gzip, deflate\", \"Accept\":\"text/html,application/xhtml+xml,application/xml;q=0.9,*/*;q=0.8\", \"DNT\":\"1\",\"Connection\":\"close\", \"Upgrade-Insecure-Requests\":\"1\"}\n",
    "# Get headers from https://httpbin.org/get\n",
    "\n",
    "page = requests.get(url, headers=headers)\n",
    "\n",
    "soup1 = BeautifulSoup(page.content, \"html.parser\")\n",
    "soup2 = BeautifulSoup(soup1.prettify(), \"html.parser\")\n",
    "soup3 = BeautifulSoup(page.text, \"html\")\n",
    "\n",
    "title = soup3.find(id='productTitle').text.strip()\n",
    "#price = soup2.find('span', class_=\"a-price-whole\").get_text.strip()\n",
    "price_whole = soup3.find('span', class_=\"a-price-whole\").text.strip()\n",
    "price_decimal = soup3.find('span', class_=\"a-price-fraction\").text.strip()\n",
    "price = price_whole + price_decimal\n",
    "\n",
    "print(title)\n",
    "print(price)"
   ]
  },
  {
   "cell_type": "code",
   "execution_count": 79,
   "id": "9f90144f-6fa6-4e11-9a02-f64c55eecc49",
   "metadata": {},
   "outputs": [],
   "source": [
    "# Creating timestamp\n",
    "today = datetime.date.today()\n"
   ]
  },
  {
   "cell_type": "code",
   "execution_count": 81,
   "id": "9f8d950b-ecd2-4267-89af-9d8553b0cc2d",
   "metadata": {},
   "outputs": [],
   "source": [
    "# Creating a CSV file to import data into\n",
    "import csv\n",
    "\n",
    "header = ['Title', 'Price', 'Date']\n",
    "data = [title, price, today]\n",
    "\n",
    "#with open('AmazonScrapedDataset.csv', 'w', newline='', encoding='UTF8') as f:\n",
    "    #writer = csv.writer(f)\n",
    "    #writer.writerow(header)\n",
    "    #writer.writerow(data)"
   ]
  },
  {
   "cell_type": "code",
   "execution_count": 87,
   "id": "7e116ea2-1fbb-4cf6-9a1a-854f582b4303",
   "metadata": {},
   "outputs": [
    {
     "name": "stdout",
     "output_type": "stream",
     "text": [
      "                     Title  Price        Date\n",
      "0  The Eminem Show (Vinyl)  50.41  2024-07-24\n",
      "1  The Eminem Show (Vinyl)  50.41  2024-07-24\n"
     ]
    }
   ],
   "source": [
    "df = pd.read_csv(r\"C:\\Users\\visha\\Git Repo\\Amazon-Web-Scraping-Project\\AmazonScrapedDataset.csv\")\n",
    "print(df)"
   ]
  },
  {
   "cell_type": "code",
   "execution_count": 85,
   "id": "1ee3461c-603a-4acd-b2b1-018c23a8b589",
   "metadata": {},
   "outputs": [],
   "source": [
    "# Appending data\n",
    "\n",
    "with open('AmazonScrapedDataset.csv', 'a+', newline='', encoding='UTF8') as f:\n",
    "    writer = csv.writer(f)\n",
    "    writer.writerow(data)"
   ]
  },
  {
   "cell_type": "code",
   "execution_count": 89,
   "id": "fefa964f-56b9-4a48-a770-17d055f385d3",
   "metadata": {},
   "outputs": [],
   "source": [
    "# Creating function \n",
    "\n",
    "def check_price():\n",
    "    url = 'https://www.amazon.ca/Eminem-Show-Vinyl/dp/B000066JCX/ref=sr_1_1?crid=3UYMS6A7A4QJ3&dib=eyJ2IjoiMSJ9.qXWnJoDqGKrBu5kmDeG6y03Uifnw8F3zBC_VeTiECYZWw7_VZoEPf7-9IMUZqoibrVC7uIop5WPxA6VlnhUR6XZFd_MFXJX2mmt5beP_E-iNU6Z8NYC8KVhkgnP94aC02IzkQJ9BZZC03unRtPYAWwVpShRtQ6Ef1EvuzdOKlEPnBFjRwSbepgYRym5uHUPXFl8PxU4TAcI6S2VnaFVcTKQHQ-nTsdS6ru4mcld_ivquRwHCraqrir4ZjNYuIVI8rGyMF9BRzjBFDbRxzulfsHS0Kms-n8kuLd9GKbmnpx4.2VARSZHcJDzs37x2nkHLEWaC5bs9gjrOnxOjPd2YHy8&dib_tag=se&keywords=the+eminem+show+vinyl&qid=1721844065&sprefix=pi%2Caps%2C6135&sr=8-1'\n",
    "    headers = {\"User-Agent\": \"Mozilla/5.0 (Windows NT 10.0; Win64; x64) AppleWebKit/537.36 (KHTML, like Gecko) Chrome/126.0.0.0 Safari/537.36\", \"Accept-Encoding\":\"gzip, deflate\", \"Accept\":\"text/html,application/xhtml+xml,application/xml;q=0.9,*/*;q=0.8\", \"DNT\":\"1\",\"Connection\":\"close\", \"Upgrade-Insecure-Requests\":\"1\"}\n",
    "\n",
    "    page = requests.get(url, headers=headers)\n",
    "    soup = BeautifulSoup(page.text, \"html\")\n",
    "\n",
    "    title = soup.find(id='productTitle').text.strip()\n",
    "    price_whole = soup.find('span', class_=\"a-price-whole\").text.strip()\n",
    "    price_decimal = soup.find('span', class_=\"a-price-fraction\").text.strip()\n",
    "    price = price_whole + price_decimal\n",
    "    today = datetime.date.today()\n",
    "\n",
    "    header = ['Title', 'Price', 'Date']\n",
    "    data = [title, price, today]\n",
    "    with open('AmazonScrapedDataset.csv', 'a+', newline='', encoding='UTF8') as f:\n",
    "        writer = csv.writer(f)\n",
    "        writer.writerow(data)\n",
    "\n",
    "    if(price < 49):\n",
    "        send_mail()"
   ]
  },
  {
   "cell_type": "code",
   "execution_count": null,
   "id": "7992cc4e-4250-4940-9907-979a539f382b",
   "metadata": {},
   "outputs": [],
   "source": [
    "# Setting a timer\n",
    "while(True):\n",
    "    check_price()\n",
    "    time.sleep(86400)"
   ]
  },
  {
   "cell_type": "code",
   "execution_count": null,
   "id": "1df9d584-8df0-4423-ae9b-3b5f7541a9c4",
   "metadata": {},
   "outputs": [],
   "source": [
    "df = pd.read_csv(r\"C:\\Users\\visha\\Git Repo\\Amazon-Web-Scraping-Project\\AmazonScrapedDataset.csv\")\n",
    "print(df)"
   ]
  },
  {
   "cell_type": "code",
   "execution_count": null,
   "id": "19c758db-ce2d-4957-ab57-c0c148f6c179",
   "metadata": {},
   "outputs": [],
   "source": [
    "# Function to send email\n",
    "\n",
    "    def send_mail():\n",
    "        server = smtplib.SMTP_SSL('smtp.gmail.com', 465)\n",
    "        server.ehlo()\n",
    "        #server.starttls()\n",
    "        server.ehlo()\n",
    "        server.login('vishalvich@gmail.com','xxxxxxxxxxxxxx')\n",
    "    \n",
    "    subject = \"The Vinyl you want is below $49! Now is your chance to buy!\"\n",
    "    body = \"Vishal, This is the moment we have been waiting for. Now is your chance to pick up the vinyl you have always wanted. Don't mess it up! Link here: https://www.amazon.ca/Eminem-Show-Vinyl/dp/B000066JCX/ref=sr_1_1?crid=3UYMS6A7A4QJ3&dib=eyJ2IjoiMSJ9.qXWnJoDqGKrBu5kmDeG6y03Uifnw8F3zBC_VeTiECYZWw7_VZoEPf7-9IMUZqoibrVC7uIop5WPxA6VlnhUR6XZFd_MFXJX2mmt5beP_E-iNU6Z8NYC8KVhkgnP94aC02IzkQJ9BZZC03unRtPYAWwVpShRtQ6Ef1EvuzdOKlEPnBFjRwSbepgYRym5uHUPXFl8PxU4TAcI6S2VnaFVcTKQHQ-nTsdS6ru4mcld_ivquRwHCraqrir4ZjNYuIVI8rGyMF9BRzjBFDbRxzulfsHS0Kms-n8kuLd9GKbmnpx4.2VARSZHcJDzs37x2nkHLEWaC5bs9gjrOnxOjPd2YHy8&dib_tag=se&keywords=the+eminem+show+vinyl&qid=1721844065&sprefix=pi%2Caps%2C6135&sr=8-1\"\n",
    "   \n",
    "    msg = f\"Subject: {subject}\\n\\n{body}\"\n",
    "    server.sendmail(\n",
    "        'vishalvich@gmail.com',\n",
    "        msg\n",
    "    )"
   ]
  },
  {
   "cell_type": "code",
   "execution_count": null,
   "id": "5c532949-9efb-4a32-b37c-c065fffb8fd4",
   "metadata": {},
   "outputs": [],
   "source": []
  }
 ],
 "metadata": {
  "kernelspec": {
   "display_name": "Python 3 (ipykernel)",
   "language": "python",
   "name": "python3"
  },
  "language_info": {
   "codemirror_mode": {
    "name": "ipython",
    "version": 3
   },
   "file_extension": ".py",
   "mimetype": "text/x-python",
   "name": "python",
   "nbconvert_exporter": "python",
   "pygments_lexer": "ipython3",
   "version": "3.11.7"
  }
 },
 "nbformat": 4,
 "nbformat_minor": 5
}
